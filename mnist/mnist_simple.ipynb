{
 "cells": [
  {
   "cell_type": "code",
   "execution_count": 1,
   "metadata": {},
   "outputs": [
    {
     "name": "stderr",
     "output_type": "stream",
     "text": [
      "Using TensorFlow backend.\n"
     ]
    }
   ],
   "source": [
    "import numpy as np\n",
    "from sklearn.preprocessing import StandardScaler\n",
    "from keras.datasets import mnist\n",
    "from keras.models import Sequential\n",
    "from keras.layers import Dense\n",
    "from keras.utils import np_utils"
   ]
  },
  {
   "cell_type": "code",
   "execution_count": 2,
   "metadata": {
    "collapsed": true
   },
   "outputs": [],
   "source": [
    "np.random.seed(42)"
   ]
  },
  {
   "cell_type": "code",
   "execution_count": 3,
   "metadata": {
    "collapsed": true
   },
   "outputs": [],
   "source": [
    "(X_train, y_train), (X_test, y_test) = mnist.load_data()"
   ]
  },
  {
   "cell_type": "markdown",
   "metadata": {},
   "source": [
    "Картинки 24х24, развернем каждую в вектор длины 784."
   ]
  },
  {
   "cell_type": "code",
   "execution_count": 4,
   "metadata": {},
   "outputs": [
    {
     "data": {
      "text/plain": [
       "((60000, 28, 28), (10000, 28, 28))"
      ]
     },
     "execution_count": 4,
     "metadata": {},
     "output_type": "execute_result"
    }
   ],
   "source": [
    "X_train.shape, X_test.shape"
   ]
  },
  {
   "cell_type": "code",
   "execution_count": 5,
   "metadata": {
    "collapsed": true
   },
   "outputs": [],
   "source": [
    "X_train = X_train.reshape(X_train.shape[0], 784).astype('float32')\n",
    "X_test = X_test.reshape(X_test.shape[0], 784).astype('float32')"
   ]
  },
  {
   "cell_type": "markdown",
   "metadata": {},
   "source": [
    "Масштабируем данные."
   ]
  },
  {
   "cell_type": "code",
   "execution_count": 6,
   "metadata": {
    "collapsed": true
   },
   "outputs": [],
   "source": [
    "scaler = StandardScaler()\n",
    "X_train_scaled = scaler.fit_transform(X_train)\n",
    "X_test_scaled = scaler.transform(X_test)"
   ]
  },
  {
   "cell_type": "code",
   "execution_count": 7,
   "metadata": {
    "collapsed": true
   },
   "outputs": [],
   "source": [
    "y_train = np_utils.to_categorical(y_train, 10)\n",
    "y_test = np_utils.to_categorical(y_test, 10)"
   ]
  },
  {
   "cell_type": "code",
   "execution_count": 8,
   "metadata": {},
   "outputs": [
    {
     "data": {
      "text/plain": [
       "array([[ 0.,  0.,  0.,  0.,  0.,  1.,  0.,  0.,  0.,  0.],\n",
       "       [ 1.,  0.,  0.,  0.,  0.,  0.,  0.,  0.,  0.,  0.],\n",
       "       [ 0.,  0.,  0.,  0.,  1.,  0.,  0.,  0.,  0.,  0.]])"
      ]
     },
     "execution_count": 8,
     "metadata": {},
     "output_type": "execute_result"
    }
   ],
   "source": [
    "y_train[:3, :]"
   ]
  },
  {
   "cell_type": "code",
   "execution_count": 9,
   "metadata": {
    "collapsed": true
   },
   "outputs": [],
   "source": [
    "model = Sequential()"
   ]
  },
  {
   "cell_type": "code",
   "execution_count": 10,
   "metadata": {
    "collapsed": true
   },
   "outputs": [],
   "source": [
    "model.add(Dense(800, input_dim=784, init='normal', activation='relu'))"
   ]
  },
  {
   "cell_type": "code",
   "execution_count": 11,
   "metadata": {
    "collapsed": true
   },
   "outputs": [],
   "source": [
    "model.add(Dense(10, init='normal', activation='softmax'))"
   ]
  },
  {
   "cell_type": "code",
   "execution_count": 12,
   "metadata": {
    "collapsed": true
   },
   "outputs": [],
   "source": [
    "model.compile(loss='categorical_crossentropy', optimizer='SGD', metrics=['accuracy'])"
   ]
  },
  {
   "cell_type": "code",
   "execution_count": 13,
   "metadata": {},
   "outputs": [
    {
     "name": "stdout",
     "output_type": "stream",
     "text": [
      "____________________________________________________________________________________________________\n",
      "Layer (type)                     Output Shape          Param #     Connected to                     \n",
      "====================================================================================================\n",
      "dense_1 (Dense)                  (None, 800)           628000      dense_input_1[0][0]              \n",
      "____________________________________________________________________________________________________\n",
      "dense_2 (Dense)                  (None, 10)            8010        dense_1[0][0]                    \n",
      "====================================================================================================\n",
      "Total params: 636,010\n",
      "Trainable params: 636,010\n",
      "Non-trainable params: 0\n",
      "____________________________________________________________________________________________________\n",
      "None\n"
     ]
    }
   ],
   "source": [
    "print(model.summary())"
   ]
  },
  {
   "cell_type": "markdown",
   "metadata": {},
   "source": [
    "Визуализация модели (нужно выполнить pip install pydot-ng)"
   ]
  },
  {
   "cell_type": "code",
   "execution_count": 14,
   "metadata": {},
   "outputs": [
    {
     "data": {
      "image/svg+xml": [
       "<svg height=\"215pt\" viewBox=\"0.00 0.00 314.56 215.00\" width=\"315pt\" xmlns=\"http://www.w3.org/2000/svg\" xmlns:xlink=\"http://www.w3.org/1999/xlink\">\n",
       "<g class=\"graph\" id=\"graph0\" transform=\"scale(1 1) rotate(0) translate(4 211)\">\n",
       "<title>G</title>\n",
       "<polygon fill=\"#ffffff\" points=\"-4,4 -4,-211 310.5557,-211 310.5557,4 -4,4\" stroke=\"transparent\"/>\n",
       "<!-- 4687253008 -->\n",
       "<g class=\"node\" id=\"node1\">\n",
       "<title>4687253008</title>\n",
       "<polygon fill=\"none\" points=\"0,-162.5 0,-206.5 306.5557,-206.5 306.5557,-162.5 0,-162.5\" stroke=\"#000000\"/>\n",
       "<text fill=\"#000000\" font-family=\"Times,serif\" font-size=\"14.00\" text-anchor=\"middle\" x=\"83.6191\" y=\"-180.3\">dense_input_1: InputLayer</text>\n",
       "<polyline fill=\"none\" points=\"167.2383,-162.5 167.2383,-206.5 \" stroke=\"#000000\"/>\n",
       "<text fill=\"#000000\" font-family=\"Times,serif\" font-size=\"14.00\" text-anchor=\"middle\" x=\"195.0728\" y=\"-191.3\">input:</text>\n",
       "<polyline fill=\"none\" points=\"167.2383,-184.5 222.9072,-184.5 \" stroke=\"#000000\"/>\n",
       "<text fill=\"#000000\" font-family=\"Times,serif\" font-size=\"14.00\" text-anchor=\"middle\" x=\"195.0728\" y=\"-169.3\">output:</text>\n",
       "<polyline fill=\"none\" points=\"222.9072,-162.5 222.9072,-206.5 \" stroke=\"#000000\"/>\n",
       "<text fill=\"#000000\" font-family=\"Times,serif\" font-size=\"14.00\" text-anchor=\"middle\" x=\"264.7314\" y=\"-191.3\">(None, 784)</text>\n",
       "<polyline fill=\"none\" points=\"222.9072,-184.5 306.5557,-184.5 \" stroke=\"#000000\"/>\n",
       "<text fill=\"#000000\" font-family=\"Times,serif\" font-size=\"14.00\" text-anchor=\"middle\" x=\"264.7314\" y=\"-169.3\">(None, 784)</text>\n",
       "</g>\n",
       "<!-- 4687252168 -->\n",
       "<g class=\"node\" id=\"node2\">\n",
       "<title>4687252168</title>\n",
       "<polygon fill=\"none\" points=\"31.4932,-81.5 31.4932,-125.5 275.0625,-125.5 275.0625,-81.5 31.4932,-81.5\" stroke=\"#000000\"/>\n",
       "<text fill=\"#000000\" font-family=\"Times,serif\" font-size=\"14.00\" text-anchor=\"middle\" x=\"83.6191\" y=\"-99.3\">dense_1: Dense</text>\n",
       "<polyline fill=\"none\" points=\"135.7451,-81.5 135.7451,-125.5 \" stroke=\"#000000\"/>\n",
       "<text fill=\"#000000\" font-family=\"Times,serif\" font-size=\"14.00\" text-anchor=\"middle\" x=\"163.5796\" y=\"-110.3\">input:</text>\n",
       "<polyline fill=\"none\" points=\"135.7451,-103.5 191.4141,-103.5 \" stroke=\"#000000\"/>\n",
       "<text fill=\"#000000\" font-family=\"Times,serif\" font-size=\"14.00\" text-anchor=\"middle\" x=\"163.5796\" y=\"-88.3\">output:</text>\n",
       "<polyline fill=\"none\" points=\"191.4141,-81.5 191.4141,-125.5 \" stroke=\"#000000\"/>\n",
       "<text fill=\"#000000\" font-family=\"Times,serif\" font-size=\"14.00\" text-anchor=\"middle\" x=\"233.2383\" y=\"-110.3\">(None, 784)</text>\n",
       "<polyline fill=\"none\" points=\"191.4141,-103.5 275.0625,-103.5 \" stroke=\"#000000\"/>\n",
       "<text fill=\"#000000\" font-family=\"Times,serif\" font-size=\"14.00\" text-anchor=\"middle\" x=\"233.2383\" y=\"-88.3\">(None, 800)</text>\n",
       "</g>\n",
       "<!-- 4687253008&#45;&gt;4687252168 -->\n",
       "<g class=\"edge\" id=\"edge1\">\n",
       "<title>4687253008-&gt;4687252168</title>\n",
       "<path d=\"M153.2778,-162.3664C153.2778,-154.1516 153.2778,-144.6579 153.2778,-135.7252\" fill=\"none\" stroke=\"#000000\"/>\n",
       "<polygon fill=\"#000000\" points=\"156.7779,-135.6068 153.2778,-125.6068 149.7779,-135.6069 156.7779,-135.6068\" stroke=\"#000000\"/>\n",
       "</g>\n",
       "<!-- 4689875576 -->\n",
       "<g class=\"node\" id=\"node3\">\n",
       "<title>4689875576</title>\n",
       "<polygon fill=\"none\" points=\"31.4932,-.5 31.4932,-44.5 275.0625,-44.5 275.0625,-.5 31.4932,-.5\" stroke=\"#000000\"/>\n",
       "<text fill=\"#000000\" font-family=\"Times,serif\" font-size=\"14.00\" text-anchor=\"middle\" x=\"83.6191\" y=\"-18.3\">dense_2: Dense</text>\n",
       "<polyline fill=\"none\" points=\"135.7451,-.5 135.7451,-44.5 \" stroke=\"#000000\"/>\n",
       "<text fill=\"#000000\" font-family=\"Times,serif\" font-size=\"14.00\" text-anchor=\"middle\" x=\"163.5796\" y=\"-29.3\">input:</text>\n",
       "<polyline fill=\"none\" points=\"135.7451,-22.5 191.4141,-22.5 \" stroke=\"#000000\"/>\n",
       "<text fill=\"#000000\" font-family=\"Times,serif\" font-size=\"14.00\" text-anchor=\"middle\" x=\"163.5796\" y=\"-7.3\">output:</text>\n",
       "<polyline fill=\"none\" points=\"191.4141,-.5 191.4141,-44.5 \" stroke=\"#000000\"/>\n",
       "<text fill=\"#000000\" font-family=\"Times,serif\" font-size=\"14.00\" text-anchor=\"middle\" x=\"233.2383\" y=\"-29.3\">(None, 800)</text>\n",
       "<polyline fill=\"none\" points=\"191.4141,-22.5 275.0625,-22.5 \" stroke=\"#000000\"/>\n",
       "<text fill=\"#000000\" font-family=\"Times,serif\" font-size=\"14.00\" text-anchor=\"middle\" x=\"233.2383\" y=\"-7.3\">(None, 10)</text>\n",
       "</g>\n",
       "<!-- 4687252168&#45;&gt;4689875576 -->\n",
       "<g class=\"edge\" id=\"edge2\">\n",
       "<title>4687252168-&gt;4689875576</title>\n",
       "<path d=\"M153.2778,-81.3664C153.2778,-73.1516 153.2778,-63.6579 153.2778,-54.7252\" fill=\"none\" stroke=\"#000000\"/>\n",
       "<polygon fill=\"#000000\" points=\"156.7779,-54.6068 153.2778,-44.6068 149.7779,-54.6069 156.7779,-54.6068\" stroke=\"#000000\"/>\n",
       "</g>\n",
       "</g>\n",
       "</svg>"
      ],
      "text/plain": [
       "<IPython.core.display.SVG object>"
      ]
     },
     "execution_count": 14,
     "metadata": {},
     "output_type": "execute_result"
    }
   ],
   "source": [
    "from IPython.display import SVG\n",
    "from keras.utils.visualize_util import model_to_dot\n",
    "\n",
    "SVG(model_to_dot(model, show_shapes=True).create(prog='dot', format='svg'))"
   ]
  },
  {
   "cell_type": "markdown",
   "metadata": {},
   "source": [
    "## Callbacks\n",
    "### Ранняя остановка\n",
    "Нужно также сказать несколько слов о такой важной особенности Keras, как колбеки. Через них реализовано много полезной функциональности. Например, если вы тренируете сеть в течение очень долгого времени, вам нужно понять, когда пора остановиться, если ошибка на вашем датасете перестала уменьшаться. По-английски описываемая функциональность называется \"early stopping\" (\"ранняя остановка\")."
   ]
  },
  {
   "cell_type": "code",
   "execution_count": 18,
   "metadata": {
    "collapsed": true
   },
   "outputs": [],
   "source": [
    "from keras.callbacks import EarlyStopping  \n",
    "early_stopping = EarlyStopping(monitor='loss')"
   ]
  },
  {
   "cell_type": "markdown",
   "metadata": {},
   "source": [
    "### Tensorboard\n",
    "Еще в качестве колбека можно использовать сохранение логов в формате, удобном для Tensorboard — это специальная утилита для обработки и визуализации информации из логов Tensorflow.\n",
    "После того, как обучение закончится (или даже в процессе!), вы можете запустить Tensorboard, указав абсолютный путь к директории с логами:\n",
    "tensorboard --logdir=/path/to/logs"
   ]
  },
  {
   "cell_type": "code",
   "execution_count": 16,
   "metadata": {
    "collapsed": true
   },
   "outputs": [],
   "source": [
    "from keras.callbacks import TensorBoard  \n",
    "tensorboard = TensorBoard(log_dir='../logs/', write_graph=True)"
   ]
  },
  {
   "cell_type": "code",
   "execution_count": 19,
   "metadata": {},
   "outputs": [
    {
     "name": "stdout",
     "output_type": "stream",
     "text": [
      "Train on 48000 samples, validate on 12000 samples\n",
      "Epoch 1/300\n",
      "2s - loss: 0.3998 - acc: 0.8919 - val_loss: 0.3405 - val_acc: 0.9072\n",
      "Epoch 2/300\n",
      "2s - loss: 0.3285 - acc: 0.9099 - val_loss: 0.2990 - val_acc: 0.9180\n",
      "Epoch 3/300\n",
      "2s - loss: 0.2905 - acc: 0.9205 - val_loss: 0.2737 - val_acc: 0.9252\n",
      "Epoch 4/300\n",
      "2s - loss: 0.2646 - acc: 0.9272 - val_loss: 0.2574 - val_acc: 0.9294\n",
      "Epoch 5/300\n",
      "2s - loss: 0.2455 - acc: 0.9322 - val_loss: 0.2442 - val_acc: 0.9329\n",
      "Epoch 6/300\n",
      "2s - loss: 0.2303 - acc: 0.9359 - val_loss: 0.2337 - val_acc: 0.9341\n",
      "Epoch 7/300\n",
      "2s - loss: 0.2174 - acc: 0.9396 - val_loss: 0.2247 - val_acc: 0.9362\n",
      "Epoch 8/300\n",
      "2s - loss: 0.2066 - acc: 0.9426 - val_loss: 0.2177 - val_acc: 0.9392\n",
      "Epoch 9/300\n",
      "2s - loss: 0.1971 - acc: 0.9457 - val_loss: 0.2109 - val_acc: 0.9400\n",
      "Epoch 10/300\n",
      "2s - loss: 0.1886 - acc: 0.9480 - val_loss: 0.2057 - val_acc: 0.9420\n",
      "Epoch 11/300\n",
      "2s - loss: 0.1810 - acc: 0.9501 - val_loss: 0.2004 - val_acc: 0.9434\n",
      "Epoch 12/300\n",
      "2s - loss: 0.1741 - acc: 0.9520 - val_loss: 0.1953 - val_acc: 0.9453\n",
      "Epoch 13/300\n",
      "2s - loss: 0.1679 - acc: 0.9541 - val_loss: 0.1917 - val_acc: 0.9463\n",
      "Epoch 14/300\n",
      "2s - loss: 0.1622 - acc: 0.9555 - val_loss: 0.1879 - val_acc: 0.9478\n",
      "Epoch 15/300\n",
      "2s - loss: 0.1568 - acc: 0.9575 - val_loss: 0.1850 - val_acc: 0.9490\n",
      "Epoch 16/300\n",
      "2s - loss: 0.1519 - acc: 0.9587 - val_loss: 0.1810 - val_acc: 0.9497\n",
      "Epoch 17/300\n",
      "2s - loss: 0.1473 - acc: 0.9601 - val_loss: 0.1785 - val_acc: 0.9505\n",
      "Epoch 18/300\n",
      "2s - loss: 0.1430 - acc: 0.9614 - val_loss: 0.1758 - val_acc: 0.9515\n",
      "Epoch 19/300\n",
      "2s - loss: 0.1389 - acc: 0.9626 - val_loss: 0.1731 - val_acc: 0.9523\n",
      "Epoch 20/300\n",
      "2s - loss: 0.1350 - acc: 0.9637 - val_loss: 0.1709 - val_acc: 0.9529\n",
      "Epoch 21/300\n",
      "2s - loss: 0.1315 - acc: 0.9649 - val_loss: 0.1685 - val_acc: 0.9530\n",
      "Epoch 22/300\n",
      "2s - loss: 0.1280 - acc: 0.9658 - val_loss: 0.1667 - val_acc: 0.9539\n",
      "Epoch 23/300\n",
      "2s - loss: 0.1247 - acc: 0.9671 - val_loss: 0.1645 - val_acc: 0.9538\n",
      "Epoch 24/300\n",
      "2s - loss: 0.1216 - acc: 0.9680 - val_loss: 0.1630 - val_acc: 0.9547\n",
      "Epoch 25/300\n",
      "2s - loss: 0.1187 - acc: 0.9690 - val_loss: 0.1611 - val_acc: 0.9553\n",
      "Epoch 26/300\n",
      "2s - loss: 0.1159 - acc: 0.9699 - val_loss: 0.1594 - val_acc: 0.9562\n",
      "Epoch 27/300\n",
      "2s - loss: 0.1132 - acc: 0.9708 - val_loss: 0.1579 - val_acc: 0.9562\n",
      "Epoch 28/300\n",
      "2s - loss: 0.1106 - acc: 0.9719 - val_loss: 0.1566 - val_acc: 0.9565\n",
      "Epoch 29/300\n",
      "2s - loss: 0.1081 - acc: 0.9723 - val_loss: 0.1551 - val_acc: 0.9568\n",
      "Epoch 30/300\n",
      "2s - loss: 0.1057 - acc: 0.9731 - val_loss: 0.1539 - val_acc: 0.9568\n",
      "Epoch 31/300\n",
      "2s - loss: 0.1035 - acc: 0.9737 - val_loss: 0.1522 - val_acc: 0.9577\n",
      "Epoch 32/300\n",
      "2s - loss: 0.1013 - acc: 0.9744 - val_loss: 0.1511 - val_acc: 0.9580\n",
      "Epoch 33/300\n",
      "2s - loss: 0.0992 - acc: 0.9752 - val_loss: 0.1499 - val_acc: 0.9581\n",
      "Epoch 34/300\n",
      "2s - loss: 0.0971 - acc: 0.9756 - val_loss: 0.1487 - val_acc: 0.9586\n",
      "Epoch 35/300\n",
      "2s - loss: 0.0952 - acc: 0.9764 - val_loss: 0.1477 - val_acc: 0.9592\n",
      "Epoch 36/300\n",
      "2s - loss: 0.0933 - acc: 0.9769 - val_loss: 0.1469 - val_acc: 0.9596\n",
      "Epoch 37/300\n",
      "2s - loss: 0.0914 - acc: 0.9774 - val_loss: 0.1457 - val_acc: 0.9597\n",
      "Epoch 38/300\n",
      "2s - loss: 0.0897 - acc: 0.9781 - val_loss: 0.1446 - val_acc: 0.9603\n",
      "Epoch 39/300\n",
      "2s - loss: 0.0879 - acc: 0.9783 - val_loss: 0.1439 - val_acc: 0.9603\n",
      "Epoch 40/300\n",
      "2s - loss: 0.0863 - acc: 0.9788 - val_loss: 0.1431 - val_acc: 0.9605\n",
      "Epoch 41/300\n",
      "2s - loss: 0.0847 - acc: 0.9792 - val_loss: 0.1420 - val_acc: 0.9611\n",
      "Epoch 42/300\n",
      "2s - loss: 0.0832 - acc: 0.9798 - val_loss: 0.1413 - val_acc: 0.9609\n",
      "Epoch 43/300\n",
      "2s - loss: 0.0816 - acc: 0.9803 - val_loss: 0.1407 - val_acc: 0.9617\n",
      "Epoch 44/300\n",
      "2s - loss: 0.0802 - acc: 0.9806 - val_loss: 0.1399 - val_acc: 0.9618\n",
      "Epoch 45/300\n",
      "2s - loss: 0.0788 - acc: 0.9810 - val_loss: 0.1391 - val_acc: 0.9618\n",
      "Epoch 46/300\n",
      "2s - loss: 0.0774 - acc: 0.9816 - val_loss: 0.1386 - val_acc: 0.9621\n",
      "Epoch 47/300\n",
      "2s - loss: 0.0761 - acc: 0.9820 - val_loss: 0.1378 - val_acc: 0.9628\n",
      "Epoch 48/300\n",
      "2s - loss: 0.0748 - acc: 0.9823 - val_loss: 0.1370 - val_acc: 0.9631\n",
      "Epoch 49/300\n",
      "2s - loss: 0.0735 - acc: 0.9829 - val_loss: 0.1365 - val_acc: 0.9628\n",
      "Epoch 50/300\n",
      "2s - loss: 0.0723 - acc: 0.9831 - val_loss: 0.1362 - val_acc: 0.9628\n",
      "Epoch 51/300\n",
      "2s - loss: 0.0711 - acc: 0.9833 - val_loss: 0.1354 - val_acc: 0.9628\n",
      "Epoch 52/300\n",
      "2s - loss: 0.0699 - acc: 0.9837 - val_loss: 0.1347 - val_acc: 0.9630\n",
      "Epoch 53/300\n",
      "2s - loss: 0.0688 - acc: 0.9842 - val_loss: 0.1342 - val_acc: 0.9634\n",
      "Epoch 54/300\n",
      "2s - loss: 0.0677 - acc: 0.9843 - val_loss: 0.1337 - val_acc: 0.9637\n",
      "Epoch 55/300\n",
      "3s - loss: 0.0666 - acc: 0.9846 - val_loss: 0.1332 - val_acc: 0.9633\n",
      "Epoch 56/300\n",
      "2s - loss: 0.0656 - acc: 0.9851 - val_loss: 0.1328 - val_acc: 0.9634\n",
      "Epoch 57/300\n",
      "2s - loss: 0.0645 - acc: 0.9854 - val_loss: 0.1324 - val_acc: 0.9636\n",
      "Epoch 58/300\n",
      "2s - loss: 0.0635 - acc: 0.9857 - val_loss: 0.1317 - val_acc: 0.9638\n",
      "Epoch 59/300\n",
      "2s - loss: 0.0626 - acc: 0.9860 - val_loss: 0.1314 - val_acc: 0.9638\n",
      "Epoch 60/300\n",
      "2s - loss: 0.0616 - acc: 0.9864 - val_loss: 0.1309 - val_acc: 0.9636\n",
      "Epoch 61/300\n",
      "2s - loss: 0.0607 - acc: 0.9866 - val_loss: 0.1304 - val_acc: 0.9643\n",
      "Epoch 62/300\n",
      "2s - loss: 0.0598 - acc: 0.9869 - val_loss: 0.1300 - val_acc: 0.9645\n",
      "Epoch 63/300\n",
      "2s - loss: 0.0589 - acc: 0.9872 - val_loss: 0.1299 - val_acc: 0.9646\n",
      "Epoch 64/300\n",
      "2s - loss: 0.0581 - acc: 0.9874 - val_loss: 0.1291 - val_acc: 0.9647\n",
      "Epoch 65/300\n",
      "2s - loss: 0.0573 - acc: 0.9876 - val_loss: 0.1287 - val_acc: 0.9651\n",
      "Epoch 66/300\n",
      "2s - loss: 0.0564 - acc: 0.9880 - val_loss: 0.1285 - val_acc: 0.9652\n",
      "Epoch 67/300\n",
      "2s - loss: 0.0556 - acc: 0.9881 - val_loss: 0.1284 - val_acc: 0.9651\n",
      "Epoch 68/300\n",
      "2s - loss: 0.0549 - acc: 0.9884 - val_loss: 0.1278 - val_acc: 0.9652\n",
      "Epoch 69/300\n",
      "2s - loss: 0.0541 - acc: 0.9887 - val_loss: 0.1274 - val_acc: 0.9658\n",
      "Epoch 70/300\n",
      "2s - loss: 0.0533 - acc: 0.9888 - val_loss: 0.1271 - val_acc: 0.9655\n",
      "Epoch 71/300\n",
      "2s - loss: 0.0526 - acc: 0.9890 - val_loss: 0.1267 - val_acc: 0.9656\n",
      "Epoch 72/300\n",
      "2s - loss: 0.0519 - acc: 0.9894 - val_loss: 0.1265 - val_acc: 0.9656\n",
      "Epoch 73/300\n",
      "2s - loss: 0.0512 - acc: 0.9896 - val_loss: 0.1262 - val_acc: 0.9657\n",
      "Epoch 74/300\n",
      "2s - loss: 0.0505 - acc: 0.9898 - val_loss: 0.1260 - val_acc: 0.9655\n",
      "Epoch 75/300\n",
      "2s - loss: 0.0499 - acc: 0.9900 - val_loss: 0.1256 - val_acc: 0.9658\n",
      "Epoch 76/300\n",
      "2s - loss: 0.0492 - acc: 0.9901 - val_loss: 0.1254 - val_acc: 0.9658\n",
      "Epoch 77/300\n",
      "2s - loss: 0.0486 - acc: 0.9903 - val_loss: 0.1251 - val_acc: 0.9661\n",
      "Epoch 78/300\n",
      "2s - loss: 0.0480 - acc: 0.9906 - val_loss: 0.1250 - val_acc: 0.9658\n",
      "Epoch 79/300\n",
      "2s - loss: 0.0474 - acc: 0.9908 - val_loss: 0.1248 - val_acc: 0.9662\n",
      "Epoch 80/300\n",
      "2s - loss: 0.0468 - acc: 0.9910 - val_loss: 0.1244 - val_acc: 0.9661\n",
      "Epoch 81/300\n",
      "2s - loss: 0.0462 - acc: 0.9911 - val_loss: 0.1242 - val_acc: 0.9662\n",
      "Epoch 82/300\n",
      "2s - loss: 0.0456 - acc: 0.9912 - val_loss: 0.1239 - val_acc: 0.9663\n",
      "Epoch 83/300\n",
      "2s - loss: 0.0451 - acc: 0.9914 - val_loss: 0.1235 - val_acc: 0.9664\n",
      "Epoch 84/300\n",
      "2s - loss: 0.0445 - acc: 0.9917 - val_loss: 0.1235 - val_acc: 0.9666\n",
      "Epoch 85/300\n",
      "2s - loss: 0.0440 - acc: 0.9917 - val_loss: 0.1232 - val_acc: 0.9668\n",
      "Epoch 86/300\n",
      "2s - loss: 0.0434 - acc: 0.9919 - val_loss: 0.1230 - val_acc: 0.9666\n",
      "Epoch 87/300\n",
      "2s - loss: 0.0429 - acc: 0.9921 - val_loss: 0.1227 - val_acc: 0.9667\n",
      "Epoch 88/300\n",
      "2s - loss: 0.0424 - acc: 0.9923 - val_loss: 0.1226 - val_acc: 0.9669\n",
      "Epoch 89/300\n",
      "2s - loss: 0.0419 - acc: 0.9925 - val_loss: 0.1224 - val_acc: 0.9668\n",
      "Epoch 90/300\n",
      "2s - loss: 0.0414 - acc: 0.9925 - val_loss: 0.1221 - val_acc: 0.9666\n",
      "Epoch 91/300\n",
      "2s - loss: 0.0410 - acc: 0.9928 - val_loss: 0.1221 - val_acc: 0.9669\n",
      "Epoch 92/300\n",
      "2s - loss: 0.0405 - acc: 0.9930 - val_loss: 0.1218 - val_acc: 0.9672\n",
      "Epoch 93/300\n",
      "2s - loss: 0.0400 - acc: 0.9930 - val_loss: 0.1221 - val_acc: 0.9670\n",
      "Epoch 94/300\n",
      "2s - loss: 0.0396 - acc: 0.9931 - val_loss: 0.1215 - val_acc: 0.9670\n",
      "Epoch 95/300\n",
      "2s - loss: 0.0391 - acc: 0.9934 - val_loss: 0.1214 - val_acc: 0.9673\n",
      "Epoch 96/300\n",
      "2s - loss: 0.0387 - acc: 0.9934 - val_loss: 0.1212 - val_acc: 0.9673\n",
      "Epoch 97/300\n",
      "2s - loss: 0.0383 - acc: 0.9936 - val_loss: 0.1210 - val_acc: 0.9673\n",
      "Epoch 98/300\n",
      "2s - loss: 0.0378 - acc: 0.9938 - val_loss: 0.1208 - val_acc: 0.9675\n",
      "Epoch 99/300\n",
      "2s - loss: 0.0374 - acc: 0.9939 - val_loss: 0.1209 - val_acc: 0.9673\n",
      "Epoch 100/300\n",
      "2s - loss: 0.0370 - acc: 0.9940 - val_loss: 0.1204 - val_acc: 0.9678\n",
      "Epoch 101/300\n"
     ]
    },
    {
     "name": "stdout",
     "output_type": "stream",
     "text": [
      "2s - loss: 0.0366 - acc: 0.9942 - val_loss: 0.1204 - val_acc: 0.9673\n",
      "Epoch 102/300\n",
      "2s - loss: 0.0362 - acc: 0.9942 - val_loss: 0.1204 - val_acc: 0.9673\n",
      "Epoch 103/300\n",
      "2s - loss: 0.0359 - acc: 0.9943 - val_loss: 0.1199 - val_acc: 0.9679\n",
      "Epoch 104/300\n",
      "2s - loss: 0.0355 - acc: 0.9945 - val_loss: 0.1200 - val_acc: 0.9677\n",
      "Epoch 105/300\n",
      "2s - loss: 0.0351 - acc: 0.9945 - val_loss: 0.1200 - val_acc: 0.9677\n",
      "Epoch 106/300\n",
      "2s - loss: 0.0348 - acc: 0.9946 - val_loss: 0.1197 - val_acc: 0.9677\n",
      "Epoch 107/300\n",
      "2s - loss: 0.0344 - acc: 0.9948 - val_loss: 0.1198 - val_acc: 0.9678\n",
      "Epoch 108/300\n",
      "2s - loss: 0.0341 - acc: 0.9948 - val_loss: 0.1196 - val_acc: 0.9678\n",
      "Epoch 109/300\n",
      "2s - loss: 0.0337 - acc: 0.9949 - val_loss: 0.1193 - val_acc: 0.9678\n",
      "Epoch 110/300\n",
      "2s - loss: 0.0334 - acc: 0.9950 - val_loss: 0.1192 - val_acc: 0.9679\n",
      "Epoch 111/300\n",
      "2s - loss: 0.0330 - acc: 0.9951 - val_loss: 0.1191 - val_acc: 0.9680\n",
      "Epoch 112/300\n",
      "2s - loss: 0.0327 - acc: 0.9951 - val_loss: 0.1190 - val_acc: 0.9678\n",
      "Epoch 113/300\n",
      "2s - loss: 0.0324 - acc: 0.9952 - val_loss: 0.1189 - val_acc: 0.9678\n",
      "Epoch 114/300\n",
      "2s - loss: 0.0321 - acc: 0.9953 - val_loss: 0.1189 - val_acc: 0.9678\n",
      "Epoch 115/300\n",
      "2s - loss: 0.0318 - acc: 0.9954 - val_loss: 0.1188 - val_acc: 0.9680\n",
      "Epoch 116/300\n",
      "2s - loss: 0.0315 - acc: 0.9955 - val_loss: 0.1187 - val_acc: 0.9678\n",
      "Epoch 117/300\n",
      "2s - loss: 0.0312 - acc: 0.9956 - val_loss: 0.1186 - val_acc: 0.9680\n",
      "Epoch 118/300\n",
      "2s - loss: 0.0309 - acc: 0.9957 - val_loss: 0.1184 - val_acc: 0.9684\n",
      "Epoch 119/300\n",
      "2s - loss: 0.0306 - acc: 0.9957 - val_loss: 0.1184 - val_acc: 0.9682\n",
      "Epoch 120/300\n",
      "2s - loss: 0.0303 - acc: 0.9958 - val_loss: 0.1183 - val_acc: 0.9678\n",
      "Epoch 121/300\n",
      "2s - loss: 0.0300 - acc: 0.9959 - val_loss: 0.1181 - val_acc: 0.9685\n",
      "Epoch 122/300\n",
      "2s - loss: 0.0298 - acc: 0.9959 - val_loss: 0.1180 - val_acc: 0.9681\n",
      "Epoch 123/300\n",
      "2s - loss: 0.0295 - acc: 0.9960 - val_loss: 0.1182 - val_acc: 0.9684\n",
      "Epoch 124/300\n",
      "2s - loss: 0.0292 - acc: 0.9960 - val_loss: 0.1179 - val_acc: 0.9683\n",
      "Epoch 125/300\n",
      "2s - loss: 0.0289 - acc: 0.9961 - val_loss: 0.1179 - val_acc: 0.9684\n",
      "Epoch 126/300\n",
      "2s - loss: 0.0287 - acc: 0.9963 - val_loss: 0.1179 - val_acc: 0.9685\n",
      "Epoch 127/300\n",
      "2s - loss: 0.0284 - acc: 0.9964 - val_loss: 0.1178 - val_acc: 0.9685\n",
      "Epoch 128/300\n",
      "2s - loss: 0.0282 - acc: 0.9964 - val_loss: 0.1178 - val_acc: 0.9684\n",
      "Epoch 129/300\n",
      "2s - loss: 0.0279 - acc: 0.9965 - val_loss: 0.1177 - val_acc: 0.9685\n",
      "Epoch 130/300\n",
      "2s - loss: 0.0277 - acc: 0.9964 - val_loss: 0.1176 - val_acc: 0.9687\n",
      "Epoch 131/300\n",
      "2s - loss: 0.0275 - acc: 0.9966 - val_loss: 0.1174 - val_acc: 0.9686\n",
      "Epoch 132/300\n",
      "2s - loss: 0.0272 - acc: 0.9967 - val_loss: 0.1172 - val_acc: 0.9688\n",
      "Epoch 133/300\n",
      "2s - loss: 0.0270 - acc: 0.9967 - val_loss: 0.1173 - val_acc: 0.9688\n",
      "Epoch 134/300\n",
      "2s - loss: 0.0268 - acc: 0.9968 - val_loss: 0.1173 - val_acc: 0.9686\n",
      "Epoch 135/300\n",
      "2s - loss: 0.0265 - acc: 0.9970 - val_loss: 0.1172 - val_acc: 0.9688\n",
      "Epoch 136/300\n",
      "2s - loss: 0.0263 - acc: 0.9969 - val_loss: 0.1173 - val_acc: 0.9688\n",
      "Epoch 137/300\n",
      "2s - loss: 0.0261 - acc: 0.9969 - val_loss: 0.1172 - val_acc: 0.9688\n",
      "Epoch 138/300\n",
      "2s - loss: 0.0259 - acc: 0.9970 - val_loss: 0.1171 - val_acc: 0.9685\n",
      "Epoch 139/300\n",
      "2s - loss: 0.0257 - acc: 0.9971 - val_loss: 0.1170 - val_acc: 0.9687\n",
      "Epoch 140/300\n",
      "2s - loss: 0.0255 - acc: 0.9971 - val_loss: 0.1170 - val_acc: 0.9688\n",
      "Epoch 141/300\n",
      "2s - loss: 0.0253 - acc: 0.9972 - val_loss: 0.1168 - val_acc: 0.9689\n",
      "Epoch 142/300\n",
      "2s - loss: 0.0250 - acc: 0.9973 - val_loss: 0.1170 - val_acc: 0.9688\n",
      "Epoch 143/300\n",
      "2s - loss: 0.0249 - acc: 0.9973 - val_loss: 0.1168 - val_acc: 0.9688\n",
      "Epoch 144/300\n",
      "2s - loss: 0.0247 - acc: 0.9974 - val_loss: 0.1168 - val_acc: 0.9688\n",
      "Epoch 145/300\n",
      "2s - loss: 0.0245 - acc: 0.9974 - val_loss: 0.1166 - val_acc: 0.9686\n",
      "Epoch 146/300\n",
      "2s - loss: 0.0243 - acc: 0.9974 - val_loss: 0.1166 - val_acc: 0.9689\n",
      "Epoch 147/300\n",
      "2s - loss: 0.0241 - acc: 0.9974 - val_loss: 0.1165 - val_acc: 0.9689\n",
      "Epoch 148/300\n",
      "2s - loss: 0.0239 - acc: 0.9975 - val_loss: 0.1167 - val_acc: 0.9690\n",
      "Epoch 149/300\n",
      "2s - loss: 0.0237 - acc: 0.9975 - val_loss: 0.1166 - val_acc: 0.9688\n",
      "Epoch 150/300\n",
      "2s - loss: 0.0236 - acc: 0.9975 - val_loss: 0.1165 - val_acc: 0.9691\n",
      "Epoch 151/300\n",
      "2s - loss: 0.0234 - acc: 0.9976 - val_loss: 0.1165 - val_acc: 0.9690\n",
      "Epoch 152/300\n",
      "2s - loss: 0.0232 - acc: 0.9976 - val_loss: 0.1164 - val_acc: 0.9689\n",
      "Epoch 153/300\n",
      "2s - loss: 0.0230 - acc: 0.9977 - val_loss: 0.1164 - val_acc: 0.9695\n",
      "Epoch 154/300\n",
      "2s - loss: 0.0229 - acc: 0.9977 - val_loss: 0.1164 - val_acc: 0.9694\n",
      "Epoch 155/300\n",
      "2s - loss: 0.0227 - acc: 0.9979 - val_loss: 0.1164 - val_acc: 0.9691\n",
      "Epoch 156/300\n",
      "2s - loss: 0.0225 - acc: 0.9978 - val_loss: 0.1164 - val_acc: 0.9695\n",
      "Epoch 157/300\n",
      "2s - loss: 0.0224 - acc: 0.9979 - val_loss: 0.1161 - val_acc: 0.9693\n",
      "Epoch 158/300\n",
      "2s - loss: 0.0222 - acc: 0.9979 - val_loss: 0.1161 - val_acc: 0.9693\n",
      "Epoch 159/300\n",
      "2s - loss: 0.0220 - acc: 0.9980 - val_loss: 0.1162 - val_acc: 0.9693\n",
      "Epoch 160/300\n",
      "2s - loss: 0.0219 - acc: 0.9980 - val_loss: 0.1161 - val_acc: 0.9697\n",
      "Epoch 161/300\n",
      "2s - loss: 0.0217 - acc: 0.9980 - val_loss: 0.1163 - val_acc: 0.9697\n",
      "Epoch 162/300\n",
      "2s - loss: 0.0216 - acc: 0.9981 - val_loss: 0.1162 - val_acc: 0.9696\n",
      "Epoch 163/300\n",
      "2s - loss: 0.0214 - acc: 0.9980 - val_loss: 0.1160 - val_acc: 0.9695\n",
      "Epoch 164/300\n",
      "2s - loss: 0.0213 - acc: 0.9981 - val_loss: 0.1159 - val_acc: 0.9696\n",
      "Epoch 165/300\n",
      "2s - loss: 0.0212 - acc: 0.9981 - val_loss: 0.1159 - val_acc: 0.9697\n",
      "Epoch 166/300\n",
      "2s - loss: 0.0210 - acc: 0.9981 - val_loss: 0.1158 - val_acc: 0.9697\n",
      "Epoch 167/300\n",
      "2s - loss: 0.0209 - acc: 0.9982 - val_loss: 0.1159 - val_acc: 0.9695\n",
      "Epoch 168/300\n",
      "2s - loss: 0.0207 - acc: 0.9982 - val_loss: 0.1159 - val_acc: 0.9698\n",
      "Epoch 169/300\n",
      "2s - loss: 0.0206 - acc: 0.9982 - val_loss: 0.1158 - val_acc: 0.9694\n",
      "Epoch 170/300\n",
      "2s - loss: 0.0205 - acc: 0.9983 - val_loss: 0.1158 - val_acc: 0.9698\n",
      "Epoch 171/300\n",
      "2s - loss: 0.0203 - acc: 0.9983 - val_loss: 0.1158 - val_acc: 0.9696\n",
      "Epoch 172/300\n",
      "2s - loss: 0.0202 - acc: 0.9983 - val_loss: 0.1159 - val_acc: 0.9699\n",
      "Epoch 173/300\n",
      "2s - loss: 0.0201 - acc: 0.9984 - val_loss: 0.1158 - val_acc: 0.9700\n",
      "Epoch 174/300\n",
      "2s - loss: 0.0199 - acc: 0.9984 - val_loss: 0.1157 - val_acc: 0.9700\n",
      "Epoch 175/300\n",
      "2s - loss: 0.0198 - acc: 0.9984 - val_loss: 0.1156 - val_acc: 0.9698\n",
      "Epoch 176/300\n",
      "2s - loss: 0.0197 - acc: 0.9985 - val_loss: 0.1156 - val_acc: 0.9697\n",
      "Epoch 177/300\n",
      "2s - loss: 0.0196 - acc: 0.9985 - val_loss: 0.1157 - val_acc: 0.9700\n",
      "Epoch 178/300\n",
      "2s - loss: 0.0194 - acc: 0.9985 - val_loss: 0.1156 - val_acc: 0.9700\n",
      "Epoch 179/300\n",
      "2s - loss: 0.0193 - acc: 0.9986 - val_loss: 0.1157 - val_acc: 0.9699\n",
      "Epoch 180/300\n",
      "2s - loss: 0.0192 - acc: 0.9986 - val_loss: 0.1155 - val_acc: 0.9698\n",
      "Epoch 181/300\n",
      "2s - loss: 0.0191 - acc: 0.9986 - val_loss: 0.1155 - val_acc: 0.9697\n",
      "Epoch 182/300\n",
      "2s - loss: 0.0190 - acc: 0.9986 - val_loss: 0.1155 - val_acc: 0.9702\n",
      "Epoch 183/300\n",
      "2s - loss: 0.0188 - acc: 0.9987 - val_loss: 0.1155 - val_acc: 0.9698\n",
      "Epoch 184/300\n",
      "2s - loss: 0.0187 - acc: 0.9987 - val_loss: 0.1155 - val_acc: 0.9698\n",
      "Epoch 185/300\n",
      "2s - loss: 0.0186 - acc: 0.9986 - val_loss: 0.1154 - val_acc: 0.9698\n",
      "Epoch 186/300\n",
      "2s - loss: 0.0185 - acc: 0.9987 - val_loss: 0.1155 - val_acc: 0.9698\n",
      "Epoch 187/300\n",
      "2s - loss: 0.0184 - acc: 0.9987 - val_loss: 0.1155 - val_acc: 0.9701\n",
      "Epoch 188/300\n",
      "2s - loss: 0.0183 - acc: 0.9988 - val_loss: 0.1156 - val_acc: 0.9700\n",
      "Epoch 189/300\n",
      "2s - loss: 0.0182 - acc: 0.9988 - val_loss: 0.1156 - val_acc: 0.9699\n",
      "Epoch 190/300\n",
      "2s - loss: 0.0181 - acc: 0.9988 - val_loss: 0.1155 - val_acc: 0.9700\n",
      "Epoch 191/300\n",
      "2s - loss: 0.0180 - acc: 0.9989 - val_loss: 0.1155 - val_acc: 0.9701\n",
      "Epoch 192/300\n",
      "2s - loss: 0.0179 - acc: 0.9989 - val_loss: 0.1155 - val_acc: 0.9698\n",
      "Epoch 193/300\n",
      "2s - loss: 0.0178 - acc: 0.9989 - val_loss: 0.1156 - val_acc: 0.9702\n",
      "Epoch 194/300\n",
      "2s - loss: 0.0177 - acc: 0.9990 - val_loss: 0.1154 - val_acc: 0.9701\n",
      "Epoch 195/300\n",
      "2s - loss: 0.0176 - acc: 0.9990 - val_loss: 0.1155 - val_acc: 0.9701\n",
      "Epoch 196/300\n",
      "2s - loss: 0.0175 - acc: 0.9989 - val_loss: 0.1156 - val_acc: 0.9702\n",
      "Epoch 197/300\n",
      "2s - loss: 0.0174 - acc: 0.9990 - val_loss: 0.1155 - val_acc: 0.9701\n",
      "Epoch 198/300\n",
      "2s - loss: 0.0173 - acc: 0.9990 - val_loss: 0.1155 - val_acc: 0.9701\n",
      "Epoch 199/300\n",
      "2s - loss: 0.0172 - acc: 0.9990 - val_loss: 0.1155 - val_acc: 0.9701\n",
      "Epoch 200/300\n"
     ]
    },
    {
     "name": "stdout",
     "output_type": "stream",
     "text": [
      "2s - loss: 0.0171 - acc: 0.9990 - val_loss: 0.1155 - val_acc: 0.9700\n",
      "Epoch 201/300\n",
      "2s - loss: 0.0170 - acc: 0.9990 - val_loss: 0.1155 - val_acc: 0.9703\n",
      "Epoch 202/300\n",
      "2s - loss: 0.0169 - acc: 0.9991 - val_loss: 0.1154 - val_acc: 0.9701\n",
      "Epoch 203/300\n",
      "2s - loss: 0.0168 - acc: 0.9990 - val_loss: 0.1154 - val_acc: 0.9703\n",
      "Epoch 204/300\n",
      "2s - loss: 0.0168 - acc: 0.9990 - val_loss: 0.1154 - val_acc: 0.9702\n",
      "Epoch 205/300\n",
      "2s - loss: 0.0167 - acc: 0.9991 - val_loss: 0.1154 - val_acc: 0.9703\n",
      "Epoch 206/300\n",
      "2s - loss: 0.0166 - acc: 0.9991 - val_loss: 0.1154 - val_acc: 0.9703\n",
      "Epoch 207/300\n",
      "2s - loss: 0.0165 - acc: 0.9991 - val_loss: 0.1154 - val_acc: 0.9701\n",
      "Epoch 208/300\n",
      "2s - loss: 0.0164 - acc: 0.9991 - val_loss: 0.1154 - val_acc: 0.9702\n",
      "Epoch 209/300\n",
      "2s - loss: 0.0163 - acc: 0.9991 - val_loss: 0.1155 - val_acc: 0.9703\n",
      "Epoch 210/300\n",
      "2s - loss: 0.0163 - acc: 0.9991 - val_loss: 0.1154 - val_acc: 0.9703\n",
      "Epoch 211/300\n",
      "2s - loss: 0.0162 - acc: 0.9991 - val_loss: 0.1155 - val_acc: 0.9702\n",
      "Epoch 212/300\n",
      "2s - loss: 0.0161 - acc: 0.9992 - val_loss: 0.1153 - val_acc: 0.9703\n",
      "Epoch 213/300\n",
      "2s - loss: 0.0160 - acc: 0.9991 - val_loss: 0.1154 - val_acc: 0.9703\n",
      "Epoch 214/300\n",
      "2s - loss: 0.0159 - acc: 0.9991 - val_loss: 0.1155 - val_acc: 0.9702\n",
      "Epoch 215/300\n",
      "2s - loss: 0.0159 - acc: 0.9991 - val_loss: 0.1154 - val_acc: 0.9703\n",
      "Epoch 216/300\n",
      "2s - loss: 0.0158 - acc: 0.9992 - val_loss: 0.1154 - val_acc: 0.9701\n",
      "Epoch 217/300\n",
      "2s - loss: 0.0157 - acc: 0.9992 - val_loss: 0.1154 - val_acc: 0.9702\n",
      "Epoch 218/300\n",
      "2s - loss: 0.0156 - acc: 0.9992 - val_loss: 0.1154 - val_acc: 0.9704\n",
      "Epoch 219/300\n",
      "2s - loss: 0.0156 - acc: 0.9992 - val_loss: 0.1154 - val_acc: 0.9703\n",
      "Epoch 220/300\n",
      "2s - loss: 0.0155 - acc: 0.9992 - val_loss: 0.1154 - val_acc: 0.9703\n",
      "Epoch 221/300\n",
      "2s - loss: 0.0154 - acc: 0.9992 - val_loss: 0.1154 - val_acc: 0.9703\n",
      "Epoch 222/300\n",
      "2s - loss: 0.0153 - acc: 0.9992 - val_loss: 0.1155 - val_acc: 0.9699\n",
      "Epoch 223/300\n",
      "2s - loss: 0.0153 - acc: 0.9992 - val_loss: 0.1154 - val_acc: 0.9703\n",
      "Epoch 224/300\n",
      "2s - loss: 0.0152 - acc: 0.9992 - val_loss: 0.1153 - val_acc: 0.9702\n",
      "Epoch 225/300\n",
      "2s - loss: 0.0151 - acc: 0.9993 - val_loss: 0.1155 - val_acc: 0.9703\n",
      "Epoch 226/300\n",
      "2s - loss: 0.0151 - acc: 0.9992 - val_loss: 0.1155 - val_acc: 0.9703\n",
      "Epoch 227/300\n",
      "2s - loss: 0.0150 - acc: 0.9992 - val_loss: 0.1154 - val_acc: 0.9702\n",
      "Epoch 228/300\n",
      "2s - loss: 0.0149 - acc: 0.9993 - val_loss: 0.1154 - val_acc: 0.9701\n",
      "Epoch 229/300\n",
      "2s - loss: 0.0149 - acc: 0.9993 - val_loss: 0.1155 - val_acc: 0.9703\n",
      "Epoch 230/300\n",
      "2s - loss: 0.0148 - acc: 0.9993 - val_loss: 0.1154 - val_acc: 0.9701\n",
      "Epoch 231/300\n",
      "2s - loss: 0.0147 - acc: 0.9993 - val_loss: 0.1154 - val_acc: 0.9702\n",
      "Epoch 232/300\n",
      "2s - loss: 0.0147 - acc: 0.9993 - val_loss: 0.1155 - val_acc: 0.9703\n",
      "Epoch 233/300\n",
      "2s - loss: 0.0146 - acc: 0.9993 - val_loss: 0.1155 - val_acc: 0.9703\n",
      "Epoch 234/300\n",
      "2s - loss: 0.0145 - acc: 0.9993 - val_loss: 0.1155 - val_acc: 0.9703\n",
      "Epoch 235/300\n",
      "2s - loss: 0.0145 - acc: 0.9993 - val_loss: 0.1155 - val_acc: 0.9703\n",
      "Epoch 236/300\n",
      "2s - loss: 0.0144 - acc: 0.9993 - val_loss: 0.1155 - val_acc: 0.9703\n",
      "Epoch 237/300\n",
      "2s - loss: 0.0144 - acc: 0.9993 - val_loss: 0.1155 - val_acc: 0.9703\n",
      "Epoch 238/300\n",
      "2s - loss: 0.0143 - acc: 0.9993 - val_loss: 0.1155 - val_acc: 0.9704\n",
      "Epoch 239/300\n",
      "2s - loss: 0.0142 - acc: 0.9993 - val_loss: 0.1155 - val_acc: 0.9704\n",
      "Epoch 240/300\n",
      "2s - loss: 0.0142 - acc: 0.9993 - val_loss: 0.1155 - val_acc: 0.9703\n",
      "Epoch 241/300\n",
      "2s - loss: 0.0141 - acc: 0.9994 - val_loss: 0.1155 - val_acc: 0.9703\n",
      "Epoch 242/300\n",
      "2s - loss: 0.0141 - acc: 0.9994 - val_loss: 0.1155 - val_acc: 0.9703\n",
      "Epoch 243/300\n",
      "2s - loss: 0.0140 - acc: 0.9994 - val_loss: 0.1156 - val_acc: 0.9704\n",
      "Epoch 244/300\n",
      "2s - loss: 0.0140 - acc: 0.9994 - val_loss: 0.1156 - val_acc: 0.9705\n",
      "Epoch 245/300\n",
      "2s - loss: 0.0139 - acc: 0.9994 - val_loss: 0.1155 - val_acc: 0.9703\n",
      "Epoch 246/300\n",
      "2s - loss: 0.0138 - acc: 0.9994 - val_loss: 0.1156 - val_acc: 0.9704\n",
      "Epoch 247/300\n",
      "2s - loss: 0.0138 - acc: 0.9994 - val_loss: 0.1157 - val_acc: 0.9705\n",
      "Epoch 248/300\n",
      "2s - loss: 0.0137 - acc: 0.9994 - val_loss: 0.1156 - val_acc: 0.9704\n",
      "Epoch 249/300\n",
      "2s - loss: 0.0137 - acc: 0.9994 - val_loss: 0.1156 - val_acc: 0.9704\n",
      "Epoch 250/300\n",
      "2s - loss: 0.0136 - acc: 0.9994 - val_loss: 0.1156 - val_acc: 0.9705\n",
      "Epoch 251/300\n",
      "2s - loss: 0.0136 - acc: 0.9994 - val_loss: 0.1156 - val_acc: 0.9704\n",
      "Epoch 252/300\n",
      "2s - loss: 0.0135 - acc: 0.9994 - val_loss: 0.1156 - val_acc: 0.9704\n",
      "Epoch 253/300\n",
      "2s - loss: 0.0135 - acc: 0.9994 - val_loss: 0.1157 - val_acc: 0.9706\n",
      "Epoch 254/300\n",
      "2s - loss: 0.0134 - acc: 0.9994 - val_loss: 0.1157 - val_acc: 0.9706\n",
      "Epoch 255/300\n",
      "2s - loss: 0.0134 - acc: 0.9994 - val_loss: 0.1156 - val_acc: 0.9704\n",
      "Epoch 256/300\n",
      "2s - loss: 0.0133 - acc: 0.9994 - val_loss: 0.1156 - val_acc: 0.9704\n",
      "Epoch 257/300\n",
      "2s - loss: 0.0133 - acc: 0.9994 - val_loss: 0.1157 - val_acc: 0.9705\n",
      "Epoch 258/300\n",
      "2s - loss: 0.0132 - acc: 0.9994 - val_loss: 0.1156 - val_acc: 0.9704\n",
      "Epoch 259/300\n",
      "2s - loss: 0.0132 - acc: 0.9994 - val_loss: 0.1157 - val_acc: 0.9706\n",
      "Epoch 260/300\n",
      "2s - loss: 0.0131 - acc: 0.9995 - val_loss: 0.1157 - val_acc: 0.9705\n",
      "Epoch 261/300\n",
      "2s - loss: 0.0131 - acc: 0.9994 - val_loss: 0.1157 - val_acc: 0.9706\n",
      "Epoch 262/300\n",
      "2s - loss: 0.0130 - acc: 0.9994 - val_loss: 0.1157 - val_acc: 0.9705\n",
      "Epoch 263/300\n",
      "2s - loss: 0.0130 - acc: 0.9994 - val_loss: 0.1158 - val_acc: 0.9707\n",
      "Epoch 264/300\n",
      "2s - loss: 0.0129 - acc: 0.9995 - val_loss: 0.1158 - val_acc: 0.9707\n",
      "Epoch 265/300\n",
      "2s - loss: 0.0129 - acc: 0.9994 - val_loss: 0.1158 - val_acc: 0.9704\n",
      "Epoch 266/300\n",
      "2s - loss: 0.0129 - acc: 0.9995 - val_loss: 0.1157 - val_acc: 0.9706\n",
      "Epoch 267/300\n",
      "2s - loss: 0.0128 - acc: 0.9995 - val_loss: 0.1158 - val_acc: 0.9707\n",
      "Epoch 268/300\n",
      "2s - loss: 0.0128 - acc: 0.9994 - val_loss: 0.1158 - val_acc: 0.9706\n",
      "Epoch 269/300\n",
      "2s - loss: 0.0127 - acc: 0.9995 - val_loss: 0.1158 - val_acc: 0.9708\n",
      "Epoch 270/300\n",
      "2s - loss: 0.0127 - acc: 0.9995 - val_loss: 0.1159 - val_acc: 0.9707\n",
      "Epoch 271/300\n",
      "2s - loss: 0.0126 - acc: 0.9995 - val_loss: 0.1158 - val_acc: 0.9707\n",
      "Epoch 272/300\n",
      "2s - loss: 0.0126 - acc: 0.9995 - val_loss: 0.1158 - val_acc: 0.9708\n",
      "Epoch 273/300\n",
      "2s - loss: 0.0126 - acc: 0.9995 - val_loss: 0.1159 - val_acc: 0.9708\n",
      "Epoch 274/300\n",
      "2s - loss: 0.0125 - acc: 0.9995 - val_loss: 0.1159 - val_acc: 0.9708\n",
      "Epoch 275/300\n",
      "2s - loss: 0.0125 - acc: 0.9995 - val_loss: 0.1159 - val_acc: 0.9708\n",
      "Epoch 276/300\n",
      "2s - loss: 0.0124 - acc: 0.9995 - val_loss: 0.1159 - val_acc: 0.9705\n",
      "Epoch 277/300\n",
      "2s - loss: 0.0124 - acc: 0.9995 - val_loss: 0.1159 - val_acc: 0.9708\n",
      "Epoch 278/300\n",
      "2s - loss: 0.0123 - acc: 0.9995 - val_loss: 0.1159 - val_acc: 0.9706\n",
      "Epoch 279/300\n",
      "2s - loss: 0.0123 - acc: 0.9995 - val_loss: 0.1159 - val_acc: 0.9708\n",
      "Epoch 280/300\n",
      "2s - loss: 0.0123 - acc: 0.9995 - val_loss: 0.1159 - val_acc: 0.9705\n",
      "Epoch 281/300\n",
      "2s - loss: 0.0122 - acc: 0.9995 - val_loss: 0.1160 - val_acc: 0.9706\n",
      "Epoch 282/300\n",
      "2s - loss: 0.0122 - acc: 0.9995 - val_loss: 0.1160 - val_acc: 0.9708\n",
      "Epoch 283/300\n",
      "2s - loss: 0.0122 - acc: 0.9995 - val_loss: 0.1160 - val_acc: 0.9706\n",
      "Epoch 284/300\n",
      "2s - loss: 0.0121 - acc: 0.9995 - val_loss: 0.1160 - val_acc: 0.9707\n",
      "Epoch 285/300\n",
      "2s - loss: 0.0121 - acc: 0.9995 - val_loss: 0.1160 - val_acc: 0.9706\n",
      "Epoch 286/300\n",
      "2s - loss: 0.0120 - acc: 0.9995 - val_loss: 0.1160 - val_acc: 0.9706\n",
      "Epoch 287/300\n",
      "2s - loss: 0.0120 - acc: 0.9995 - val_loss: 0.1160 - val_acc: 0.9707\n",
      "Epoch 288/300\n",
      "2s - loss: 0.0120 - acc: 0.9995 - val_loss: 0.1160 - val_acc: 0.9704\n",
      "Epoch 289/300\n",
      "2s - loss: 0.0119 - acc: 0.9995 - val_loss: 0.1160 - val_acc: 0.9706\n",
      "Epoch 290/300\n",
      "2s - loss: 0.0119 - acc: 0.9995 - val_loss: 0.1161 - val_acc: 0.9708\n",
      "Epoch 291/300\n",
      "2s - loss: 0.0119 - acc: 0.9995 - val_loss: 0.1161 - val_acc: 0.9708\n",
      "Epoch 292/300\n",
      "2s - loss: 0.0118 - acc: 0.9995 - val_loss: 0.1161 - val_acc: 0.9707\n",
      "Epoch 293/300\n",
      "2s - loss: 0.0118 - acc: 0.9996 - val_loss: 0.1161 - val_acc: 0.9706\n",
      "Epoch 294/300\n",
      "2s - loss: 0.0118 - acc: 0.9995 - val_loss: 0.1161 - val_acc: 0.9705\n",
      "Epoch 295/300\n",
      "2s - loss: 0.0117 - acc: 0.9996 - val_loss: 0.1161 - val_acc: 0.9706\n",
      "Epoch 296/300\n",
      "2s - loss: 0.0117 - acc: 0.9995 - val_loss: 0.1161 - val_acc: 0.9703\n",
      "Epoch 297/300\n",
      "2s - loss: 0.0117 - acc: 0.9996 - val_loss: 0.1162 - val_acc: 0.9706\n",
      "Epoch 298/300\n",
      "2s - loss: 0.0116 - acc: 0.9995 - val_loss: 0.1162 - val_acc: 0.9706\n",
      "Epoch 299/300\n"
     ]
    },
    {
     "name": "stdout",
     "output_type": "stream",
     "text": [
      "2s - loss: 0.0116 - acc: 0.9995 - val_loss: 0.1162 - val_acc: 0.9706\n",
      "Epoch 300/300\n",
      "2s - loss: 0.0116 - acc: 0.9996 - val_loss: 0.1162 - val_acc: 0.9707\n",
      "CPU times: user 1h 7min 57s, sys: 2min 7s, total: 1h 10min 4s\n",
      "Wall time: 12min 8s\n"
     ]
    },
    {
     "data": {
      "text/plain": [
       "<keras.callbacks.History at 0x128d56d68>"
      ]
     },
     "execution_count": 19,
     "metadata": {},
     "output_type": "execute_result"
    }
   ],
   "source": [
    "%%time\n",
    "model.fit(X_train_scaled, y_train, batch_size=200, nb_epoch=300, \n",
    "          validation_split=0.2, callbacks=[early_stopping, tensorboard], verbose=2);"
   ]
  },
  {
   "cell_type": "markdown",
   "metadata": {},
   "source": [
    "C помощью Tensorboard удобно отслеживать процесс обучения нейронной сети. "
   ]
  },
  {
   "cell_type": "markdown",
   "metadata": {},
   "source": [
    "<img src='../img/tensorboard_mnist.png'>"
   ]
  },
  {
   "cell_type": "markdown",
   "metadata": {},
   "source": [
    "Оцениваем качество обучения сети на тестовых данных"
   ]
  },
  {
   "cell_type": "code",
   "execution_count": 54,
   "metadata": {},
   "outputs": [
    {
     "name": "stdout",
     "output_type": "stream",
     "text": [
      "Доля верных ответов на тестовых данных: 97.25%\n"
     ]
    }
   ],
   "source": [
    "scores = model.evaluate(X_test_scaled, y_test, verbose=0)\n",
    "print(\"Доля верных ответов на тестовых данных: %.2f%%\" % (scores[1]*100))"
   ]
  },
  {
   "cell_type": "markdown",
   "metadata": {},
   "source": [
    "## Сохраняем сеть\n",
    "**Архитектуру – в JSON-файл**"
   ]
  },
  {
   "cell_type": "code",
   "execution_count": 21,
   "metadata": {
    "collapsed": true
   },
   "outputs": [],
   "source": [
    "model_json = model.to_json()\n",
    "with open(\"mnist_model.json\", \"w\") as json_file:\n",
    "    json_file.write(model_json)"
   ]
  },
  {
   "cell_type": "code",
   "execution_count": 27,
   "metadata": {
    "collapsed": true
   },
   "outputs": [],
   "source": [
    "import pprint\n",
    "import json"
   ]
  },
  {
   "cell_type": "code",
   "execution_count": 30,
   "metadata": {},
   "outputs": [
    {
     "name": "stdout",
     "output_type": "stream",
     "text": [
      "{'class_name': 'Sequential',\n",
      " 'config': [{'class_name': 'Dense',\n",
      "             'config': {'W_constraint': None,\n",
      "                        'W_regularizer': None,\n",
      "                        'activation': 'relu',\n",
      "                        'activity_regularizer': None,\n",
      "                        'b_constraint': None,\n",
      "                        'b_regularizer': None,\n",
      "                        'batch_input_shape': [None, 784],\n",
      "                        'bias': True,\n",
      "                        'init': 'normal',\n",
      "                        'input_dim': 784,\n",
      "                        'input_dtype': 'float32',\n",
      "                        'name': 'dense_1',\n",
      "                        'output_dim': 800,\n",
      "                        'trainable': True}},\n",
      "            {'class_name': 'Dense',\n",
      "             'config': {'W_constraint': None,\n",
      "                        'W_regularizer': None,\n",
      "                        'activation': 'softmax',\n",
      "                        'activity_regularizer': None,\n",
      "                        'b_constraint': None,\n",
      "                        'b_regularizer': None,\n",
      "                        'bias': True,\n",
      "                        'init': 'normal',\n",
      "                        'input_dim': 800,\n",
      "                        'name': 'dense_2',\n",
      "                        'output_dim': 10,\n",
      "                        'trainable': True}}],\n",
      " 'keras_version': '1.2.2'}\n"
     ]
    }
   ],
   "source": [
    "with open(\"mnist_model.json\", \"r\") as json_file:\n",
    "    pprint.pprint(json.loads(json_file.read()))"
   ]
  },
  {
   "cell_type": "markdown",
   "metadata": {},
   "source": [
    "**Веса сохраняем в бинарный hd5-файл**"
   ]
  },
  {
   "cell_type": "code",
   "execution_count": 48,
   "metadata": {
    "collapsed": true
   },
   "outputs": [],
   "source": [
    "model.save_weights(\"mnist_model.h5\")"
   ]
  },
  {
   "cell_type": "markdown",
   "metadata": {},
   "source": [
    "**Теперь сеть можно восстановить и использовать**"
   ]
  },
  {
   "cell_type": "code",
   "execution_count": 51,
   "metadata": {},
   "outputs": [],
   "source": [
    "from keras.models import model_from_json\n",
    "\n",
    "with open(\"mnist_model.json\") as json_file:\n",
    "    loaded_model_json = json_file.read()\n",
    "\n",
    "# Создаем модель на основе загруженных данных\n",
    "loaded_model = model_from_json(loaded_model_json)\n",
    "# Загружаем веса в модель\n",
    "loaded_model.load_weights(\"mnist_model.h5\")"
   ]
  },
  {
   "cell_type": "markdown",
   "metadata": {},
   "source": [
    "Перед использованием модели ее обязательно нужно скомпилировать. "
   ]
  },
  {
   "cell_type": "code",
   "execution_count": 52,
   "metadata": {
    "collapsed": true
   },
   "outputs": [],
   "source": [
    "model.compile(loss='categorical_crossentropy', optimizer='SGD', metrics=['accuracy'])"
   ]
  },
  {
   "cell_type": "code",
   "execution_count": 53,
   "metadata": {},
   "outputs": [
    {
     "name": "stdout",
     "output_type": "stream",
     "text": [
      "Доля верных ответов на тестовых данных: 97.25%\n"
     ]
    }
   ],
   "source": [
    "scores = model.evaluate(X_test_scaled, y_test, verbose=0)\n",
    "print(\"Доля верных ответов на тестовых данных: %.2f%%\" % (scores[1]*100))"
   ]
  }
 ],
 "metadata": {
  "kernelspec": {
   "display_name": "Python 3",
   "language": "python",
   "name": "python3"
  },
  "language_info": {
   "codemirror_mode": {
    "name": "ipython",
    "version": 3
   },
   "file_extension": ".py",
   "mimetype": "text/x-python",
   "name": "python",
   "nbconvert_exporter": "python",
   "pygments_lexer": "ipython3",
   "version": "3.6.1"
  }
 },
 "nbformat": 4,
 "nbformat_minor": 2
}
